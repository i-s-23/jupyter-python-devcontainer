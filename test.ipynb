{
 "cells": [
  {
   "cell_type": "code",
   "execution_count": 5,
   "metadata": {},
   "outputs": [
    {
     "name": "stdout",
     "output_type": "stream",
     "text": [
      "\n",
      "Sum of Quantity by Actions Workflow (sorted by Quantity, descending):\n"
     ]
    },
    {
     "data": {
      "text/html": [
       "<style type=\"text/css\">\n",
       "</style>\n",
       "<table id=\"T_9373c\">\n",
       "  <thead>\n",
       "    <tr>\n",
       "      <th id=\"T_9373c_level0_col0\" class=\"col_heading level0 col0\" >Actions Workflow</th>\n",
       "      <th id=\"T_9373c_level0_col1\" class=\"col_heading level0 col1\" >Quantity</th>\n",
       "    </tr>\n",
       "  </thead>\n",
       "  <tbody>\n",
       "    <tr>\n",
       "      <td id=\"T_9373c_row0_col0\" class=\"data row0 col0\" >Build</td>\n",
       "      <td id=\"T_9373c_row0_col1\" class=\"data row0 col1\" >695.00</td>\n",
       "    </tr>\n",
       "    <tr>\n",
       "      <td id=\"T_9373c_row1_col0\" class=\"data row1 col0\" >CI/CD</td>\n",
       "      <td id=\"T_9373c_row1_col1\" class=\"data row1 col1\" >630.00</td>\n",
       "    </tr>\n",
       "    <tr>\n",
       "      <td id=\"T_9373c_row2_col0\" class=\"data row2 col0\" >Deploy</td>\n",
       "      <td id=\"T_9373c_row2_col1\" class=\"data row2 col1\" >605.00</td>\n",
       "    </tr>\n",
       "    <tr>\n",
       "      <td id=\"T_9373c_row3_col0\" class=\"data row3 col0\" >Test</td>\n",
       "      <td id=\"T_9373c_row3_col1\" class=\"data row3 col1\" >545.00</td>\n",
       "    </tr>\n",
       "  </tbody>\n",
       "</table>\n"
      ],
      "text/plain": [
       "<pandas.io.formats.style.Styler at 0x7fa1205245f0>"
      ]
     },
     "metadata": {},
     "output_type": "display_data"
    }
   ],
   "source": [
    "import pandas as pd\n",
    "\n",
    "# CSVファイルを読み込む（ファイル名を適宜変更してください）\n",
    "df = pd.read_csv('sample.csv')\n",
    "\n",
    "# 「Actions Workflow」列から \".github/workflows/\" を除去\n",
    "df['Actions Workflow'] = df['Actions Workflow'].str.replace('.github/workflows/', '')\n",
    "\n",
    "# 「Actions Workflow」列でグループ化し、「Quantity」列の合計を計算\n",
    "quantity_sum_by_workflow = df.groupby('Actions Workflow')['Quantity'].sum().reset_index()\n",
    "\n",
    "# Quantityの合計を降順にソート\n",
    "sorted_quantity_sum = quantity_sum_by_workflow.sort_values(by='Quantity', ascending=False)\n",
    "\n",
    "# ソートされた結果を表示\n",
    "print(\"\\nSum of Quantity by Actions Workflow (sorted by Quantity, descending):\")\n",
    "display(sorted_quantity_sum.style.hide(axis='index').format({\"Quantity\": \"{:.2f}\"}))"
   ]
  }
 ],
 "metadata": {
  "kernelspec": {
   "display_name": "Python 3 (ipykernel)",
   "language": "python",
   "name": "python3"
  },
  "language_info": {
   "codemirror_mode": {
    "name": "ipython",
    "version": 3
   },
   "file_extension": ".py",
   "mimetype": "text/x-python",
   "name": "python",
   "nbconvert_exporter": "python",
   "pygments_lexer": "ipython3",
   "version": "3.12.4"
  }
 },
 "nbformat": 4,
 "nbformat_minor": 2
}
